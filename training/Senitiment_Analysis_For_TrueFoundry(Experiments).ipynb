{
  "nbformat": 4,
  "nbformat_minor": 0,
  "metadata": {
    "colab": {
      "provenance": [],
      "collapsed_sections": [],
      "toc_visible": true
    },
    "kernelspec": {
      "name": "python3",
      "display_name": "Python 3"
    },
    "language_info": {
      "name": "python"
    },
    "accelerator": "GPU",
    "gpuClass": "standard"
  },
  "cells": [
    {
      "cell_type": "markdown",
      "source": [
        "# Sentiment Analysis Experiment"
      ],
      "metadata": {
        "id": "1qqvD-NawKdw"
      }
    },
    {
      "cell_type": "markdown",
      "source": [
        "## Import Libraries"
      ],
      "metadata": {
        "id": "BrzrZ1gkvhQA"
      }
    },
    {
      "cell_type": "code",
      "source": [
        "!pip install emoji"
      ],
      "metadata": {
        "colab": {
          "base_uri": "https://localhost:8080/"
        },
        "id": "9w7MTwGwyP6Z",
        "outputId": "683f0209-8b34-4d59-81fd-d7022c4123cb"
      },
      "execution_count": 1,
      "outputs": [
        {
          "output_type": "stream",
          "name": "stdout",
          "text": [
            "Looking in indexes: https://pypi.org/simple, https://us-python.pkg.dev/colab-wheels/public/simple/\n",
            "Requirement already satisfied: emoji in /usr/local/lib/python3.7/dist-packages (2.0.0)\n"
          ]
        }
      ]
    },
    {
      "cell_type": "code",
      "source": [
        "!pip install wordninja"
      ],
      "metadata": {
        "colab": {
          "base_uri": "https://localhost:8080/"
        },
        "id": "Aq5VdXjLylQb",
        "outputId": "1b7cc4bb-e31b-4221-838e-244a594ad0b1"
      },
      "execution_count": 2,
      "outputs": [
        {
          "output_type": "stream",
          "name": "stdout",
          "text": [
            "Looking in indexes: https://pypi.org/simple, https://us-python.pkg.dev/colab-wheels/public/simple/\n",
            "Requirement already satisfied: wordninja in /usr/local/lib/python3.7/dist-packages (2.0.0)\n"
          ]
        }
      ]
    },
    {
      "cell_type": "code",
      "source": [
        "import pandas as pd\n",
        "import re\n",
        "import numpy as np\n",
        "import emoji\n",
        "import wordninja\n",
        "import nltk\n",
        "from nltk.corpus import stopwords\n",
        "import spacy\n",
        "import string\n",
        "from sklearn.model_selection import train_test_split\n",
        "from sklearn.feature_extraction.text import TfidfVectorizer\n",
        "from sklearn import metrics\n",
        "from sklearn.metrics import classification_report"
      ],
      "metadata": {
        "id": "WN-rmtlbvfVr"
      },
      "execution_count": 3,
      "outputs": []
    },
    {
      "cell_type": "code",
      "source": [
        "nltk.download('stopwords')"
      ],
      "metadata": {
        "colab": {
          "base_uri": "https://localhost:8080/"
        },
        "id": "19WRX2zAzhc0",
        "outputId": "10be38d2-8390-4c16-f308-ddc9bcbbd882"
      },
      "execution_count": 4,
      "outputs": [
        {
          "output_type": "stream",
          "name": "stderr",
          "text": [
            "[nltk_data] Downloading package stopwords to /root/nltk_data...\n",
            "[nltk_data]   Package stopwords is already up-to-date!\n"
          ]
        },
        {
          "output_type": "execute_result",
          "data": {
            "text/plain": [
              "True"
            ]
          },
          "metadata": {},
          "execution_count": 4
        }
      ]
    },
    {
      "cell_type": "code",
      "source": [
        "nlp =spacy.load('en_core_web_sm')\n",
        "stop_words=set(stopwords.words('english'))"
      ],
      "metadata": {
        "id": "HZqntaT4y42Z"
      },
      "execution_count": 5,
      "outputs": []
    },
    {
      "cell_type": "markdown",
      "source": [
        "## Loading Data"
      ],
      "metadata": {
        "id": "U8nosYhtvZc2"
      }
    },
    {
      "cell_type": "code",
      "execution_count": 6,
      "metadata": {
        "id": "VnGT84BBujmZ"
      },
      "outputs": [],
      "source": [
        "datapath='/content/drive/MyDrive/airline_sentiment_analysis.csv'"
      ]
    },
    {
      "cell_type": "code",
      "source": [
        "data=pd.read_csv(datapath)"
      ],
      "metadata": {
        "id": "q6WczvKnvceO"
      },
      "execution_count": 7,
      "outputs": []
    },
    {
      "cell_type": "code",
      "source": [
        "data.head()"
      ],
      "metadata": {
        "colab": {
          "base_uri": "https://localhost:8080/",
          "height": 206
        },
        "id": "7NPhLFuivq7d",
        "outputId": "95c2c2d5-98b5-4b68-abb0-f6038980397a"
      },
      "execution_count": 8,
      "outputs": [
        {
          "output_type": "execute_result",
          "data": {
            "text/plain": [
              "   Unnamed: 0 airline_sentiment  \\\n",
              "0           1          positive   \n",
              "1           3          negative   \n",
              "2           4          negative   \n",
              "3           5          negative   \n",
              "4           6          positive   \n",
              "\n",
              "                                                text  \n",
              "0  @VirginAmerica plus you've added commercials t...  \n",
              "1  @VirginAmerica it's really aggressive to blast...  \n",
              "2  @VirginAmerica and it's a really big bad thing...  \n",
              "3  @VirginAmerica seriously would pay $30 a fligh...  \n",
              "4  @VirginAmerica yes, nearly every time I fly VX...  "
            ],
            "text/html": [
              "\n",
              "  <div id=\"df-6b3413e1-fa52-4e01-85e2-84c3b667b9a0\">\n",
              "    <div class=\"colab-df-container\">\n",
              "      <div>\n",
              "<style scoped>\n",
              "    .dataframe tbody tr th:only-of-type {\n",
              "        vertical-align: middle;\n",
              "    }\n",
              "\n",
              "    .dataframe tbody tr th {\n",
              "        vertical-align: top;\n",
              "    }\n",
              "\n",
              "    .dataframe thead th {\n",
              "        text-align: right;\n",
              "    }\n",
              "</style>\n",
              "<table border=\"1\" class=\"dataframe\">\n",
              "  <thead>\n",
              "    <tr style=\"text-align: right;\">\n",
              "      <th></th>\n",
              "      <th>Unnamed: 0</th>\n",
              "      <th>airline_sentiment</th>\n",
              "      <th>text</th>\n",
              "    </tr>\n",
              "  </thead>\n",
              "  <tbody>\n",
              "    <tr>\n",
              "      <th>0</th>\n",
              "      <td>1</td>\n",
              "      <td>positive</td>\n",
              "      <td>@VirginAmerica plus you've added commercials t...</td>\n",
              "    </tr>\n",
              "    <tr>\n",
              "      <th>1</th>\n",
              "      <td>3</td>\n",
              "      <td>negative</td>\n",
              "      <td>@VirginAmerica it's really aggressive to blast...</td>\n",
              "    </tr>\n",
              "    <tr>\n",
              "      <th>2</th>\n",
              "      <td>4</td>\n",
              "      <td>negative</td>\n",
              "      <td>@VirginAmerica and it's a really big bad thing...</td>\n",
              "    </tr>\n",
              "    <tr>\n",
              "      <th>3</th>\n",
              "      <td>5</td>\n",
              "      <td>negative</td>\n",
              "      <td>@VirginAmerica seriously would pay $30 a fligh...</td>\n",
              "    </tr>\n",
              "    <tr>\n",
              "      <th>4</th>\n",
              "      <td>6</td>\n",
              "      <td>positive</td>\n",
              "      <td>@VirginAmerica yes, nearly every time I fly VX...</td>\n",
              "    </tr>\n",
              "  </tbody>\n",
              "</table>\n",
              "</div>\n",
              "      <button class=\"colab-df-convert\" onclick=\"convertToInteractive('df-6b3413e1-fa52-4e01-85e2-84c3b667b9a0')\"\n",
              "              title=\"Convert this dataframe to an interactive table.\"\n",
              "              style=\"display:none;\">\n",
              "        \n",
              "  <svg xmlns=\"http://www.w3.org/2000/svg\" height=\"24px\"viewBox=\"0 0 24 24\"\n",
              "       width=\"24px\">\n",
              "    <path d=\"M0 0h24v24H0V0z\" fill=\"none\"/>\n",
              "    <path d=\"M18.56 5.44l.94 2.06.94-2.06 2.06-.94-2.06-.94-.94-2.06-.94 2.06-2.06.94zm-11 1L8.5 8.5l.94-2.06 2.06-.94-2.06-.94L8.5 2.5l-.94 2.06-2.06.94zm10 10l.94 2.06.94-2.06 2.06-.94-2.06-.94-.94-2.06-.94 2.06-2.06.94z\"/><path d=\"M17.41 7.96l-1.37-1.37c-.4-.4-.92-.59-1.43-.59-.52 0-1.04.2-1.43.59L10.3 9.45l-7.72 7.72c-.78.78-.78 2.05 0 2.83L4 21.41c.39.39.9.59 1.41.59.51 0 1.02-.2 1.41-.59l7.78-7.78 2.81-2.81c.8-.78.8-2.07 0-2.86zM5.41 20L4 18.59l7.72-7.72 1.47 1.35L5.41 20z\"/>\n",
              "  </svg>\n",
              "      </button>\n",
              "      \n",
              "  <style>\n",
              "    .colab-df-container {\n",
              "      display:flex;\n",
              "      flex-wrap:wrap;\n",
              "      gap: 12px;\n",
              "    }\n",
              "\n",
              "    .colab-df-convert {\n",
              "      background-color: #E8F0FE;\n",
              "      border: none;\n",
              "      border-radius: 50%;\n",
              "      cursor: pointer;\n",
              "      display: none;\n",
              "      fill: #1967D2;\n",
              "      height: 32px;\n",
              "      padding: 0 0 0 0;\n",
              "      width: 32px;\n",
              "    }\n",
              "\n",
              "    .colab-df-convert:hover {\n",
              "      background-color: #E2EBFA;\n",
              "      box-shadow: 0px 1px 2px rgba(60, 64, 67, 0.3), 0px 1px 3px 1px rgba(60, 64, 67, 0.15);\n",
              "      fill: #174EA6;\n",
              "    }\n",
              "\n",
              "    [theme=dark] .colab-df-convert {\n",
              "      background-color: #3B4455;\n",
              "      fill: #D2E3FC;\n",
              "    }\n",
              "\n",
              "    [theme=dark] .colab-df-convert:hover {\n",
              "      background-color: #434B5C;\n",
              "      box-shadow: 0px 1px 3px 1px rgba(0, 0, 0, 0.15);\n",
              "      filter: drop-shadow(0px 1px 2px rgba(0, 0, 0, 0.3));\n",
              "      fill: #FFFFFF;\n",
              "    }\n",
              "  </style>\n",
              "\n",
              "      <script>\n",
              "        const buttonEl =\n",
              "          document.querySelector('#df-6b3413e1-fa52-4e01-85e2-84c3b667b9a0 button.colab-df-convert');\n",
              "        buttonEl.style.display =\n",
              "          google.colab.kernel.accessAllowed ? 'block' : 'none';\n",
              "\n",
              "        async function convertToInteractive(key) {\n",
              "          const element = document.querySelector('#df-6b3413e1-fa52-4e01-85e2-84c3b667b9a0');\n",
              "          const dataTable =\n",
              "            await google.colab.kernel.invokeFunction('convertToInteractive',\n",
              "                                                     [key], {});\n",
              "          if (!dataTable) return;\n",
              "\n",
              "          const docLinkHtml = 'Like what you see? Visit the ' +\n",
              "            '<a target=\"_blank\" href=https://colab.research.google.com/notebooks/data_table.ipynb>data table notebook</a>'\n",
              "            + ' to learn more about interactive tables.';\n",
              "          element.innerHTML = '';\n",
              "          dataTable['output_type'] = 'display_data';\n",
              "          await google.colab.output.renderOutput(dataTable, element);\n",
              "          const docLink = document.createElement('div');\n",
              "          docLink.innerHTML = docLinkHtml;\n",
              "          element.appendChild(docLink);\n",
              "        }\n",
              "      </script>\n",
              "    </div>\n",
              "  </div>\n",
              "  "
            ]
          },
          "metadata": {},
          "execution_count": 8
        }
      ]
    },
    {
      "cell_type": "code",
      "source": [
        "len(data)"
      ],
      "metadata": {
        "colab": {
          "base_uri": "https://localhost:8080/"
        },
        "id": "4OYXXuqlvtJv",
        "outputId": "f0b96cd7-6a0f-41aa-ea0b-167bd392341a"
      },
      "execution_count": 9,
      "outputs": [
        {
          "output_type": "execute_result",
          "data": {
            "text/plain": [
              "11541"
            ]
          },
          "metadata": {},
          "execution_count": 9
        }
      ]
    },
    {
      "cell_type": "code",
      "source": [
        "data.columns"
      ],
      "metadata": {
        "colab": {
          "base_uri": "https://localhost:8080/"
        },
        "id": "TKZKA_vDvxJk",
        "outputId": "ff949e3f-1a35-4053-9639-a0fbb881e629"
      },
      "execution_count": 10,
      "outputs": [
        {
          "output_type": "execute_result",
          "data": {
            "text/plain": [
              "Index(['Unnamed: 0', 'airline_sentiment', 'text'], dtype='object')"
            ]
          },
          "metadata": {},
          "execution_count": 10
        }
      ]
    },
    {
      "cell_type": "code",
      "source": [
        "data=data[['airline_sentiment', 'text']]"
      ],
      "metadata": {
        "id": "tz-4OcPdv6r2"
      },
      "execution_count": 11,
      "outputs": []
    },
    {
      "cell_type": "markdown",
      "source": [
        "## Data Mining"
      ],
      "metadata": {
        "id": "G7MxwNKIwFM2"
      }
    },
    {
      "cell_type": "code",
      "source": [
        "data.isna().sum()"
      ],
      "metadata": {
        "colab": {
          "base_uri": "https://localhost:8080/"
        },
        "id": "KFT0MeKpwBtt",
        "outputId": "6ad2a25d-6607-411d-d158-5f9ec9984f3c"
      },
      "execution_count": 12,
      "outputs": [
        {
          "output_type": "execute_result",
          "data": {
            "text/plain": [
              "airline_sentiment    0\n",
              "text                 0\n",
              "dtype: int64"
            ]
          },
          "metadata": {},
          "execution_count": 12
        }
      ]
    },
    {
      "cell_type": "code",
      "source": [
        "data.groupby('airline_sentiment').count()"
      ],
      "metadata": {
        "colab": {
          "base_uri": "https://localhost:8080/",
          "height": 143
        },
        "id": "uKx61SbbxKHk",
        "outputId": "dd9ee0ae-2b06-4465-f30f-bba0aadf663d"
      },
      "execution_count": 13,
      "outputs": [
        {
          "output_type": "execute_result",
          "data": {
            "text/plain": [
              "                   text\n",
              "airline_sentiment      \n",
              "negative           9178\n",
              "positive           2363"
            ],
            "text/html": [
              "\n",
              "  <div id=\"df-4737f756-0dfd-4c61-a6ad-19845be6bbb8\">\n",
              "    <div class=\"colab-df-container\">\n",
              "      <div>\n",
              "<style scoped>\n",
              "    .dataframe tbody tr th:only-of-type {\n",
              "        vertical-align: middle;\n",
              "    }\n",
              "\n",
              "    .dataframe tbody tr th {\n",
              "        vertical-align: top;\n",
              "    }\n",
              "\n",
              "    .dataframe thead th {\n",
              "        text-align: right;\n",
              "    }\n",
              "</style>\n",
              "<table border=\"1\" class=\"dataframe\">\n",
              "  <thead>\n",
              "    <tr style=\"text-align: right;\">\n",
              "      <th></th>\n",
              "      <th>text</th>\n",
              "    </tr>\n",
              "    <tr>\n",
              "      <th>airline_sentiment</th>\n",
              "      <th></th>\n",
              "    </tr>\n",
              "  </thead>\n",
              "  <tbody>\n",
              "    <tr>\n",
              "      <th>negative</th>\n",
              "      <td>9178</td>\n",
              "    </tr>\n",
              "    <tr>\n",
              "      <th>positive</th>\n",
              "      <td>2363</td>\n",
              "    </tr>\n",
              "  </tbody>\n",
              "</table>\n",
              "</div>\n",
              "      <button class=\"colab-df-convert\" onclick=\"convertToInteractive('df-4737f756-0dfd-4c61-a6ad-19845be6bbb8')\"\n",
              "              title=\"Convert this dataframe to an interactive table.\"\n",
              "              style=\"display:none;\">\n",
              "        \n",
              "  <svg xmlns=\"http://www.w3.org/2000/svg\" height=\"24px\"viewBox=\"0 0 24 24\"\n",
              "       width=\"24px\">\n",
              "    <path d=\"M0 0h24v24H0V0z\" fill=\"none\"/>\n",
              "    <path d=\"M18.56 5.44l.94 2.06.94-2.06 2.06-.94-2.06-.94-.94-2.06-.94 2.06-2.06.94zm-11 1L8.5 8.5l.94-2.06 2.06-.94-2.06-.94L8.5 2.5l-.94 2.06-2.06.94zm10 10l.94 2.06.94-2.06 2.06-.94-2.06-.94-.94-2.06-.94 2.06-2.06.94z\"/><path d=\"M17.41 7.96l-1.37-1.37c-.4-.4-.92-.59-1.43-.59-.52 0-1.04.2-1.43.59L10.3 9.45l-7.72 7.72c-.78.78-.78 2.05 0 2.83L4 21.41c.39.39.9.59 1.41.59.51 0 1.02-.2 1.41-.59l7.78-7.78 2.81-2.81c.8-.78.8-2.07 0-2.86zM5.41 20L4 18.59l7.72-7.72 1.47 1.35L5.41 20z\"/>\n",
              "  </svg>\n",
              "      </button>\n",
              "      \n",
              "  <style>\n",
              "    .colab-df-container {\n",
              "      display:flex;\n",
              "      flex-wrap:wrap;\n",
              "      gap: 12px;\n",
              "    }\n",
              "\n",
              "    .colab-df-convert {\n",
              "      background-color: #E8F0FE;\n",
              "      border: none;\n",
              "      border-radius: 50%;\n",
              "      cursor: pointer;\n",
              "      display: none;\n",
              "      fill: #1967D2;\n",
              "      height: 32px;\n",
              "      padding: 0 0 0 0;\n",
              "      width: 32px;\n",
              "    }\n",
              "\n",
              "    .colab-df-convert:hover {\n",
              "      background-color: #E2EBFA;\n",
              "      box-shadow: 0px 1px 2px rgba(60, 64, 67, 0.3), 0px 1px 3px 1px rgba(60, 64, 67, 0.15);\n",
              "      fill: #174EA6;\n",
              "    }\n",
              "\n",
              "    [theme=dark] .colab-df-convert {\n",
              "      background-color: #3B4455;\n",
              "      fill: #D2E3FC;\n",
              "    }\n",
              "\n",
              "    [theme=dark] .colab-df-convert:hover {\n",
              "      background-color: #434B5C;\n",
              "      box-shadow: 0px 1px 3px 1px rgba(0, 0, 0, 0.15);\n",
              "      filter: drop-shadow(0px 1px 2px rgba(0, 0, 0, 0.3));\n",
              "      fill: #FFFFFF;\n",
              "    }\n",
              "  </style>\n",
              "\n",
              "      <script>\n",
              "        const buttonEl =\n",
              "          document.querySelector('#df-4737f756-0dfd-4c61-a6ad-19845be6bbb8 button.colab-df-convert');\n",
              "        buttonEl.style.display =\n",
              "          google.colab.kernel.accessAllowed ? 'block' : 'none';\n",
              "\n",
              "        async function convertToInteractive(key) {\n",
              "          const element = document.querySelector('#df-4737f756-0dfd-4c61-a6ad-19845be6bbb8');\n",
              "          const dataTable =\n",
              "            await google.colab.kernel.invokeFunction('convertToInteractive',\n",
              "                                                     [key], {});\n",
              "          if (!dataTable) return;\n",
              "\n",
              "          const docLinkHtml = 'Like what you see? Visit the ' +\n",
              "            '<a target=\"_blank\" href=https://colab.research.google.com/notebooks/data_table.ipynb>data table notebook</a>'\n",
              "            + ' to learn more about interactive tables.';\n",
              "          element.innerHTML = '';\n",
              "          dataTable['output_type'] = 'display_data';\n",
              "          await google.colab.output.renderOutput(dataTable, element);\n",
              "          const docLink = document.createElement('div');\n",
              "          docLink.innerHTML = docLinkHtml;\n",
              "          element.appendChild(docLink);\n",
              "        }\n",
              "      </script>\n",
              "    </div>\n",
              "  </div>\n",
              "  "
            ]
          },
          "metadata": {},
          "execution_count": 13
        }
      ]
    },
    {
      "cell_type": "markdown",
      "source": [
        "### Data Cleaning"
      ],
      "metadata": {
        "id": "jYx_vf7Px3ee"
      }
    },
    {
      "cell_type": "code",
      "source": [
        "def clean(text):\n",
        "    \n",
        "    #remove_mentions, urls, hash_sign:\n",
        "    mention_words_removed= re.sub(r'@\\w+','',text)\n",
        "    hash_sign_removed=re.sub(r'#','',mention_words_removed)\n",
        "    url_removed=' '.join(word for word in hash_sign_removed.split(\" \") if not word.startswith('http'))\n",
        "    \n",
        "    #Transform emoji to text\n",
        "    demoj=emoji.demojize(url_removed)\n",
        "    \n",
        "    #Split compound words coming from hashtags\n",
        "    splitted=wordninja.split(demoj)\n",
        "    splitted=\" \".join(word for word in splitted)\n",
        "    \n",
        "    # Implement lemmatization & remove punctuation\n",
        "    lem = nlp(splitted)\n",
        "    punctuations = string.punctuation\n",
        "    punctuations=punctuations+'...'\n",
        "\n",
        "    sentence=[]\n",
        "    for word in lem:\n",
        "        word = word.lemma_.lower().strip()\n",
        "        if ((word != '-pron-') & (word not in punctuations)):\n",
        "            sentence.append(word)    \n",
        "            \n",
        "    #Remove stopwords\n",
        "    stop_words_removed=[word for word in sentence if word not in stop_words]\n",
        "    \n",
        "    return stop_words_removed"
      ],
      "metadata": {
        "id": "0iqWfUkmxlrZ"
      },
      "execution_count": 14,
      "outputs": []
    },
    {
      "cell_type": "code",
      "source": [
        "clean(data['text'].values[0])"
      ],
      "metadata": {
        "colab": {
          "base_uri": "https://localhost:8080/"
        },
        "id": "PFFb0SUMzoin",
        "outputId": "5d6f8bb8-b76f-4bb4-a58b-c0e9f2d5804b"
      },
      "execution_count": 15,
      "outputs": [
        {
          "output_type": "execute_result",
          "data": {
            "text/plain": [
              "['plus', \"'ve\", 'add', 'commercial', 'experience', 'tacky']"
            ]
          },
          "metadata": {},
          "execution_count": 15
        }
      ]
    },
    {
      "cell_type": "code",
      "source": [
        "data[\"clean_text_list\"]=data[\"text\"].apply(clean)"
      ],
      "metadata": {
        "id": "m8UmLYvRzuIi"
      },
      "execution_count": 16,
      "outputs": []
    },
    {
      "cell_type": "code",
      "source": [
        "data[[\"text\",\"clean_text_list\",'airline_sentiment']].head()"
      ],
      "metadata": {
        "colab": {
          "base_uri": "https://localhost:8080/",
          "height": 206
        },
        "id": "k_-ZVhvo0Kbx",
        "outputId": "fea9b3b0-39af-4d32-bfcd-f3de1579020c"
      },
      "execution_count": 17,
      "outputs": [
        {
          "output_type": "execute_result",
          "data": {
            "text/plain": [
              "                                                text  \\\n",
              "0  @VirginAmerica plus you've added commercials t...   \n",
              "1  @VirginAmerica it's really aggressive to blast...   \n",
              "2  @VirginAmerica and it's a really big bad thing...   \n",
              "3  @VirginAmerica seriously would pay $30 a fligh...   \n",
              "4  @VirginAmerica yes, nearly every time I fly VX...   \n",
              "\n",
              "                                     clean_text_list airline_sentiment  \n",
              "0    [plus, 've, add, commercial, experience, tacky]          positive  \n",
              "1  [really, aggressive, blast, obnoxious, enterta...          negative  \n",
              "2                          [really, big, bad, thing]          negative  \n",
              "3  [seriously, would, pay, 30, flight, seat, play...          negative  \n",
              "4  [yes, nearly, every, time, fly, v, x, ear, wor...          positive  "
            ],
            "text/html": [
              "\n",
              "  <div id=\"df-cc8652ef-be11-44f1-a6e0-133bbd15eaa8\">\n",
              "    <div class=\"colab-df-container\">\n",
              "      <div>\n",
              "<style scoped>\n",
              "    .dataframe tbody tr th:only-of-type {\n",
              "        vertical-align: middle;\n",
              "    }\n",
              "\n",
              "    .dataframe tbody tr th {\n",
              "        vertical-align: top;\n",
              "    }\n",
              "\n",
              "    .dataframe thead th {\n",
              "        text-align: right;\n",
              "    }\n",
              "</style>\n",
              "<table border=\"1\" class=\"dataframe\">\n",
              "  <thead>\n",
              "    <tr style=\"text-align: right;\">\n",
              "      <th></th>\n",
              "      <th>text</th>\n",
              "      <th>clean_text_list</th>\n",
              "      <th>airline_sentiment</th>\n",
              "    </tr>\n",
              "  </thead>\n",
              "  <tbody>\n",
              "    <tr>\n",
              "      <th>0</th>\n",
              "      <td>@VirginAmerica plus you've added commercials t...</td>\n",
              "      <td>[plus, 've, add, commercial, experience, tacky]</td>\n",
              "      <td>positive</td>\n",
              "    </tr>\n",
              "    <tr>\n",
              "      <th>1</th>\n",
              "      <td>@VirginAmerica it's really aggressive to blast...</td>\n",
              "      <td>[really, aggressive, blast, obnoxious, enterta...</td>\n",
              "      <td>negative</td>\n",
              "    </tr>\n",
              "    <tr>\n",
              "      <th>2</th>\n",
              "      <td>@VirginAmerica and it's a really big bad thing...</td>\n",
              "      <td>[really, big, bad, thing]</td>\n",
              "      <td>negative</td>\n",
              "    </tr>\n",
              "    <tr>\n",
              "      <th>3</th>\n",
              "      <td>@VirginAmerica seriously would pay $30 a fligh...</td>\n",
              "      <td>[seriously, would, pay, 30, flight, seat, play...</td>\n",
              "      <td>negative</td>\n",
              "    </tr>\n",
              "    <tr>\n",
              "      <th>4</th>\n",
              "      <td>@VirginAmerica yes, nearly every time I fly VX...</td>\n",
              "      <td>[yes, nearly, every, time, fly, v, x, ear, wor...</td>\n",
              "      <td>positive</td>\n",
              "    </tr>\n",
              "  </tbody>\n",
              "</table>\n",
              "</div>\n",
              "      <button class=\"colab-df-convert\" onclick=\"convertToInteractive('df-cc8652ef-be11-44f1-a6e0-133bbd15eaa8')\"\n",
              "              title=\"Convert this dataframe to an interactive table.\"\n",
              "              style=\"display:none;\">\n",
              "        \n",
              "  <svg xmlns=\"http://www.w3.org/2000/svg\" height=\"24px\"viewBox=\"0 0 24 24\"\n",
              "       width=\"24px\">\n",
              "    <path d=\"M0 0h24v24H0V0z\" fill=\"none\"/>\n",
              "    <path d=\"M18.56 5.44l.94 2.06.94-2.06 2.06-.94-2.06-.94-.94-2.06-.94 2.06-2.06.94zm-11 1L8.5 8.5l.94-2.06 2.06-.94-2.06-.94L8.5 2.5l-.94 2.06-2.06.94zm10 10l.94 2.06.94-2.06 2.06-.94-2.06-.94-.94-2.06-.94 2.06-2.06.94z\"/><path d=\"M17.41 7.96l-1.37-1.37c-.4-.4-.92-.59-1.43-.59-.52 0-1.04.2-1.43.59L10.3 9.45l-7.72 7.72c-.78.78-.78 2.05 0 2.83L4 21.41c.39.39.9.59 1.41.59.51 0 1.02-.2 1.41-.59l7.78-7.78 2.81-2.81c.8-.78.8-2.07 0-2.86zM5.41 20L4 18.59l7.72-7.72 1.47 1.35L5.41 20z\"/>\n",
              "  </svg>\n",
              "      </button>\n",
              "      \n",
              "  <style>\n",
              "    .colab-df-container {\n",
              "      display:flex;\n",
              "      flex-wrap:wrap;\n",
              "      gap: 12px;\n",
              "    }\n",
              "\n",
              "    .colab-df-convert {\n",
              "      background-color: #E8F0FE;\n",
              "      border: none;\n",
              "      border-radius: 50%;\n",
              "      cursor: pointer;\n",
              "      display: none;\n",
              "      fill: #1967D2;\n",
              "      height: 32px;\n",
              "      padding: 0 0 0 0;\n",
              "      width: 32px;\n",
              "    }\n",
              "\n",
              "    .colab-df-convert:hover {\n",
              "      background-color: #E2EBFA;\n",
              "      box-shadow: 0px 1px 2px rgba(60, 64, 67, 0.3), 0px 1px 3px 1px rgba(60, 64, 67, 0.15);\n",
              "      fill: #174EA6;\n",
              "    }\n",
              "\n",
              "    [theme=dark] .colab-df-convert {\n",
              "      background-color: #3B4455;\n",
              "      fill: #D2E3FC;\n",
              "    }\n",
              "\n",
              "    [theme=dark] .colab-df-convert:hover {\n",
              "      background-color: #434B5C;\n",
              "      box-shadow: 0px 1px 3px 1px rgba(0, 0, 0, 0.15);\n",
              "      filter: drop-shadow(0px 1px 2px rgba(0, 0, 0, 0.3));\n",
              "      fill: #FFFFFF;\n",
              "    }\n",
              "  </style>\n",
              "\n",
              "      <script>\n",
              "        const buttonEl =\n",
              "          document.querySelector('#df-cc8652ef-be11-44f1-a6e0-133bbd15eaa8 button.colab-df-convert');\n",
              "        buttonEl.style.display =\n",
              "          google.colab.kernel.accessAllowed ? 'block' : 'none';\n",
              "\n",
              "        async function convertToInteractive(key) {\n",
              "          const element = document.querySelector('#df-cc8652ef-be11-44f1-a6e0-133bbd15eaa8');\n",
              "          const dataTable =\n",
              "            await google.colab.kernel.invokeFunction('convertToInteractive',\n",
              "                                                     [key], {});\n",
              "          if (!dataTable) return;\n",
              "\n",
              "          const docLinkHtml = 'Like what you see? Visit the ' +\n",
              "            '<a target=\"_blank\" href=https://colab.research.google.com/notebooks/data_table.ipynb>data table notebook</a>'\n",
              "            + ' to learn more about interactive tables.';\n",
              "          element.innerHTML = '';\n",
              "          dataTable['output_type'] = 'display_data';\n",
              "          await google.colab.output.renderOutput(dataTable, element);\n",
              "          const docLink = document.createElement('div');\n",
              "          docLink.innerHTML = docLinkHtml;\n",
              "          element.appendChild(docLink);\n",
              "        }\n",
              "      </script>\n",
              "    </div>\n",
              "  </div>\n",
              "  "
            ]
          },
          "metadata": {},
          "execution_count": 17
        }
      ]
    },
    {
      "cell_type": "markdown",
      "source": [
        "### Vectorisation - TF-IDF"
      ],
      "metadata": {
        "id": "gsM5_nGs1bBG"
      }
    },
    {
      "cell_type": "code",
      "source": [
        "data[\"clean_text\"]=[\" \".join(word) for word in data[\"clean_text_list\"]]\n",
        "X=data[\"clean_text\"].values\n",
        "Y=data[\"airline_sentiment\"].map({\"negative\":-1,\"positive\":1})"
      ],
      "metadata": {
        "id": "c2756AOX2bvD"
      },
      "execution_count": 18,
      "outputs": []
    },
    {
      "cell_type": "markdown",
      "source": [
        "#### Spliting Training and Testing Data"
      ],
      "metadata": {
        "id": "8gMctd0z2r94"
      }
    },
    {
      "cell_type": "code",
      "source": [
        "X_train, X_test, y_train, y_test = train_test_split(X, Y, test_size=0.3, random_state=42,stratify=Y)"
      ],
      "metadata": {
        "id": "2EtH3qUY2rmK"
      },
      "execution_count": 19,
      "outputs": []
    },
    {
      "cell_type": "code",
      "source": [
        "tfidf_vector = TfidfVectorizer()\n",
        "X_train_tf=tfidf_vector.fit_transform(X_train)\n",
        "X_test_tf = tfidf_vector.transform(X_test)"
      ],
      "metadata": {
        "id": "FJEf0HSN3iUG"
      },
      "execution_count": 20,
      "outputs": []
    },
    {
      "cell_type": "markdown",
      "source": [
        "### Modelling"
      ],
      "metadata": {
        "id": "R3KL3K2h4cqe"
      }
    },
    {
      "cell_type": "markdown",
      "source": [
        "#### Logistic Regression"
      ],
      "metadata": {
        "id": "r6ijalRk4lWx"
      }
    },
    {
      "cell_type": "code",
      "source": [
        "from sklearn.linear_model import LogisticRegression"
      ],
      "metadata": {
        "id": "4NRxYq_q4buR"
      },
      "execution_count": 21,
      "outputs": []
    },
    {
      "cell_type": "code",
      "source": [
        "model_lr=LogisticRegression(random_state=0, solver='lbfgs',max_iter=500).fit(X_train_tf,y_train)"
      ],
      "metadata": {
        "id": "H4l8--Zf4V0o"
      },
      "execution_count": 22,
      "outputs": []
    },
    {
      "cell_type": "code",
      "source": [
        "pred_train=model_lr.predict(X_train_tf)\n",
        "pred_test=model_lr.predict(X_test_tf)"
      ],
      "metadata": {
        "id": "P66BXjqj5B8O"
      },
      "execution_count": 23,
      "outputs": []
    },
    {
      "cell_type": "markdown",
      "source": [
        "##### Logistic Regression Metrics"
      ],
      "metadata": {
        "id": "7idcDrtq5SOY"
      }
    },
    {
      "cell_type": "code",
      "source": [
        "print(\"Logistic Regression Train Accuracy:\",np.round(metrics.accuracy_score(y_train, pred_train),4))\n",
        "print(\"Logistic Regression Test Accuracy:\",np.round(metrics.accuracy_score(y_test, pred_test),4))\n",
        "print(\"\")\n",
        "print(\"Logistic Regression Confusion Matrix:\",metrics.confusion_matrix(y_test, pred_test,labels=[-1, 1]),sep=\"\\n\")\n"
      ],
      "metadata": {
        "colab": {
          "base_uri": "https://localhost:8080/"
        },
        "id": "RYaDN0i35Wb_",
        "outputId": "817d49bf-8321-4cd6-f1e9-f5a0b82bfd99"
      },
      "execution_count": 24,
      "outputs": [
        {
          "output_type": "stream",
          "name": "stdout",
          "text": [
            "Logistic Regression Train Accuracy: 0.9226\n",
            "Logistic Regression Test Accuracy: 0.9007\n",
            "\n",
            "Logistic Regression Confusion Matrix:\n",
            "[[2704   50]\n",
            " [ 294  415]]\n"
          ]
        }
      ]
    },
    {
      "cell_type": "code",
      "source": [
        "print(classification_report(y_test, pred_test,target_names=['Negative','Positive']))"
      ],
      "metadata": {
        "colab": {
          "base_uri": "https://localhost:8080/"
        },
        "id": "YIOatgSqAgs4",
        "outputId": "e5a27488-e4b0-40c0-ddc2-1b60f50b131b"
      },
      "execution_count": 25,
      "outputs": [
        {
          "output_type": "stream",
          "name": "stdout",
          "text": [
            "              precision    recall  f1-score   support\n",
            "\n",
            "    Negative       0.90      0.98      0.94      2754\n",
            "    Positive       0.89      0.59      0.71       709\n",
            "\n",
            "    accuracy                           0.90      3463\n",
            "   macro avg       0.90      0.78      0.82      3463\n",
            "weighted avg       0.90      0.90      0.89      3463\n",
            "\n"
          ]
        }
      ]
    },
    {
      "cell_type": "markdown",
      "source": [
        "#### Gradient Boosting Classifier"
      ],
      "metadata": {
        "id": "7H1jhfjY6iSD"
      }
    },
    {
      "cell_type": "code",
      "source": [
        "from sklearn.ensemble import GradientBoostingClassifier"
      ],
      "metadata": {
        "id": "fdJQHKpk6mU1"
      },
      "execution_count": 26,
      "outputs": []
    },
    {
      "cell_type": "code",
      "source": [
        "model_gbm=GradientBoostingClassifier(n_estimators=180, max_depth=6, random_state=0,learning_rate=0.1).fit(X_train_tf,y_train)"
      ],
      "metadata": {
        "id": "Lecuyj9M6o8n"
      },
      "execution_count": 27,
      "outputs": []
    },
    {
      "cell_type": "code",
      "source": [
        "pred_train=model_gbm.predict(X_train_tf)\n",
        "pred_test=model_gbm.predict(X_test_tf)"
      ],
      "metadata": {
        "id": "mnSV8dAp68rq"
      },
      "execution_count": 28,
      "outputs": []
    },
    {
      "cell_type": "markdown",
      "source": [
        "##### GBM Metrics"
      ],
      "metadata": {
        "id": "-sWAbKOi7C9t"
      }
    },
    {
      "cell_type": "code",
      "source": [
        "print(\"GBM Train Accuracy:\",np.round(metrics.accuracy_score(y_train, pred_train),4))\n",
        "print(\"GBM Train Accuracy:\",np.round(metrics.accuracy_score(y_test, pred_test),4))\n",
        "print(\"\")\n",
        "print(\"GBM Train Accuracy:\",metrics.confusion_matrix(y_test, pred_test,labels=[-1, 1]),sep=\"\\n\")"
      ],
      "metadata": {
        "colab": {
          "base_uri": "https://localhost:8080/"
        },
        "id": "8DcWUw1k7GEk",
        "outputId": "83620ae3-7cd0-4ab6-fda7-b88f00721143"
      },
      "execution_count": 29,
      "outputs": [
        {
          "output_type": "stream",
          "name": "stdout",
          "text": [
            "GBM Train Accuracy: 0.944\n",
            "GBM Train Accuracy: 0.8929\n",
            "\n",
            "GBM Train Accuracy:\n",
            "[[2635  119]\n",
            " [ 252  457]]\n"
          ]
        }
      ]
    },
    {
      "cell_type": "code",
      "source": [
        "print(classification_report(y_test, pred_test,target_names=['Negative','Positive']))"
      ],
      "metadata": {
        "colab": {
          "base_uri": "https://localhost:8080/"
        },
        "id": "762QSOniAeAW",
        "outputId": "f1251e03-414f-4f0a-e9f0-0d4da831702a"
      },
      "execution_count": 30,
      "outputs": [
        {
          "output_type": "stream",
          "name": "stdout",
          "text": [
            "              precision    recall  f1-score   support\n",
            "\n",
            "    Negative       0.91      0.96      0.93      2754\n",
            "    Positive       0.79      0.64      0.71       709\n",
            "\n",
            "    accuracy                           0.89      3463\n",
            "   macro avg       0.85      0.80      0.82      3463\n",
            "weighted avg       0.89      0.89      0.89      3463\n",
            "\n"
          ]
        }
      ]
    },
    {
      "cell_type": "markdown",
      "source": [
        "#### XGBoosting Classifier"
      ],
      "metadata": {
        "id": "XTMwlYZk7eYu"
      }
    },
    {
      "cell_type": "code",
      "source": [
        "from xgboost import XGBClassifier"
      ],
      "metadata": {
        "id": "5Mk05DTo7cyQ"
      },
      "execution_count": 31,
      "outputs": []
    },
    {
      "cell_type": "code",
      "source": [
        "model_xgb=XGBClassifier(n_estimators=200,random_state=0,learning_rate=0.7,objective='multi:softprob',num_class=2).fit(X_train_tf,y_train)"
      ],
      "metadata": {
        "id": "d_BjSSTi7iVu"
      },
      "execution_count": 32,
      "outputs": []
    },
    {
      "cell_type": "code",
      "source": [
        "pred_train=model_xgb.predict(X_train_tf)\n",
        "pred_test=model_xgb.predict(X_test_tf)"
      ],
      "metadata": {
        "id": "dz3T-AzQ7yq2"
      },
      "execution_count": 33,
      "outputs": []
    },
    {
      "cell_type": "markdown",
      "source": [
        "##### XGBoosting Metrics"
      ],
      "metadata": {
        "id": "D0Ddxhn38AKy"
      }
    },
    {
      "cell_type": "code",
      "source": [
        "print(\"XGBoost train Accuracy:\",np.round(metrics.accuracy_score(y_train, pred_train),4))\n",
        "print(\"XGBoost train Accuracy:\",np.round(metrics.accuracy_score(y_test, pred_test),4))\n",
        "print(\"\")\n",
        "print(\"XGBoost train Accuracy:\",metrics.confusion_matrix(y_test, pred_test,labels=[-1, 1]),sep=\"\\n\")"
      ],
      "metadata": {
        "colab": {
          "base_uri": "https://localhost:8080/"
        },
        "id": "c-HMtmLE73HK",
        "outputId": "5ea11c6d-5475-49c5-bdce-1ceb6ef5bbeb"
      },
      "execution_count": 34,
      "outputs": [
        {
          "output_type": "stream",
          "name": "stdout",
          "text": [
            "XGBoost train Accuracy: 0.9751\n",
            "XGBoost train Accuracy: 0.8934\n",
            "\n",
            "XGBoost train Accuracy:\n",
            "[[2623  131]\n",
            " [ 238  471]]\n"
          ]
        }
      ]
    },
    {
      "cell_type": "code",
      "source": [
        "print(classification_report(y_test, pred_test,target_names=['Negative','Positive']))"
      ],
      "metadata": {
        "colab": {
          "base_uri": "https://localhost:8080/"
        },
        "id": "wkrOyq8RAYZZ",
        "outputId": "d52ec6c7-93bf-48e0-8ede-c3627a732e5c"
      },
      "execution_count": 35,
      "outputs": [
        {
          "output_type": "stream",
          "name": "stdout",
          "text": [
            "              precision    recall  f1-score   support\n",
            "\n",
            "    Negative       0.92      0.95      0.93      2754\n",
            "    Positive       0.78      0.66      0.72       709\n",
            "\n",
            "    accuracy                           0.89      3463\n",
            "   macro avg       0.85      0.81      0.83      3463\n",
            "weighted avg       0.89      0.89      0.89      3463\n",
            "\n"
          ]
        }
      ]
    },
    {
      "cell_type": "markdown",
      "source": [
        "#### Random Forest"
      ],
      "metadata": {
        "id": "XUMIbM1O8D3w"
      }
    },
    {
      "cell_type": "code",
      "source": [
        "from sklearn.ensemble import RandomForestClassifier"
      ],
      "metadata": {
        "id": "CLr1EH0N8FoU"
      },
      "execution_count": 36,
      "outputs": []
    },
    {
      "cell_type": "code",
      "source": [
        "model_rf=RandomForestClassifier(n_estimators = 100, random_state=56).fit(X_train_tf,y_train)"
      ],
      "metadata": {
        "id": "IzYl9UpZ8MTL"
      },
      "execution_count": 37,
      "outputs": []
    },
    {
      "cell_type": "code",
      "source": [
        "pred_train=model_rf.predict(X_train_tf)\n",
        "pred_test=model_rf.predict(X_test_tf)"
      ],
      "metadata": {
        "id": "Oz1UGLac8uio"
      },
      "execution_count": 38,
      "outputs": []
    },
    {
      "cell_type": "markdown",
      "source": [
        "##### Random Forest Metrics"
      ],
      "metadata": {
        "id": "buncjpr6AUDU"
      }
    },
    {
      "cell_type": "code",
      "source": [
        "print(\"RandomForest train Accuracy:\",np.round(metrics.accuracy_score(y_train, pred_train),4))\n",
        "print(\"RandomForest train Accuracy:\",np.round(metrics.accuracy_score(y_test, pred_test),4))\n",
        "print(\"\")\n",
        "print(\"RandomForest train Accuracy:\",metrics.confusion_matrix(y_test, pred_test,labels=[-1, 1]),sep=\"\\n\")"
      ],
      "metadata": {
        "colab": {
          "base_uri": "https://localhost:8080/"
        },
        "id": "mXO5vKLG8xKm",
        "outputId": "83672d0a-9102-46cd-be42-951d8fa04164"
      },
      "execution_count": 39,
      "outputs": [
        {
          "output_type": "stream",
          "name": "stdout",
          "text": [
            "RandomForest train Accuracy: 0.999\n",
            "RandomForest train Accuracy: 0.8937\n",
            "\n",
            "RandomForest train Accuracy:\n",
            "[[2647  107]\n",
            " [ 261  448]]\n"
          ]
        }
      ]
    },
    {
      "cell_type": "code",
      "source": [
        "print(classification_report(y_test, pred_test,target_names=['Negative','Positive']))"
      ],
      "metadata": {
        "colab": {
          "base_uri": "https://localhost:8080/"
        },
        "id": "6OjcHTsE9LMH",
        "outputId": "abb80069-0588-40c6-f053-1b86ecdaa6d1"
      },
      "execution_count": 40,
      "outputs": [
        {
          "output_type": "stream",
          "name": "stdout",
          "text": [
            "              precision    recall  f1-score   support\n",
            "\n",
            "    Negative       0.91      0.96      0.94      2754\n",
            "    Positive       0.81      0.63      0.71       709\n",
            "\n",
            "    accuracy                           0.89      3463\n",
            "   macro avg       0.86      0.80      0.82      3463\n",
            "weighted avg       0.89      0.89      0.89      3463\n",
            "\n"
          ]
        }
      ]
    },
    {
      "cell_type": "markdown",
      "source": [
        "**Reason to Choose these Models**\n",
        "\n",
        "1) Lightweight\n",
        "\n",
        "2) Low Data Require\n",
        "\n",
        "3) Less Chance of Overfitting due to ensemble and regularisation techniques"
      ],
      "metadata": {
        "id": "LBA2TDLMD7Ay"
      }
    },
    {
      "cell_type": "markdown",
      "source": [
        "**Out Of All the models we will choose Logistic Regression**\n",
        "\n",
        "1) High Precision of Positive Class ( as it is having very less data )\n",
        "\n",
        "2) Hight F1-score"
      ],
      "metadata": {
        "id": "LtY6C7gqEWCl"
      }
    }
  ]
}